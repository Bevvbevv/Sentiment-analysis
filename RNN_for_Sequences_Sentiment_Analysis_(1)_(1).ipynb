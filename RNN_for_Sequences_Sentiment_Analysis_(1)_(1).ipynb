{
  "cells": [
    {
      "cell_type": "code",
      "execution_count": null,
      "metadata": {
        "id": "79G2NGhssaw5"
      },
      "outputs": [],
      "source": [
        "#NLP"
      ]
    },
    {
      "cell_type": "code",
      "execution_count": null,
      "metadata": {
        "id": "KMgDe139XM0Y"
      },
      "outputs": [],
      "source": [
        "# Simple - positive or negative - binary classification problem"
      ]
    },
    {
      "cell_type": "code",
      "execution_count": null,
      "metadata": {
        "id": "NLS1mARaXVaj"
      },
      "outputs": [],
      "source": [
        "# What would you like improved in the course?"
      ]
    },
    {
      "cell_type": "code",
      "execution_count": null,
      "metadata": {
        "id": "DqtvymaKXa8M"
      },
      "outputs": [],
      "source": [
        "# Sequence to sequence - encoder RNN - time series, text in sentences\n",
        "#recurrent - loops\n",
        "\n",
        "#output of a given layer - input to the same layer time step\n",
        "#time step-time- time series, next work in a sequence of words text sequence\n",
        "\n",
        "#RNN - loops - learn relatonship\n",
        "\n",
        "#this movie is not good\n",
        "#this movie is very good - earlier and later in the data\n",
        "\n",
        "#long short term memory (LSTM) Layer makes the network recurrent\n",
        "#learning sequences\n"
      ]
    },
    {
      "cell_type": "code",
      "execution_count": null,
      "metadata": {
        "id": "l_ibfhffsci0"
      },
      "outputs": [],
      "source": [
        "#predictive text input- the next\n",
        "#sa\n",
        "#chat board\n",
        "#inter-language translation\n",
        "#automated video closed captioning- speech recognition\n",
        "#speech synthesis"
      ]
    },
    {
      "cell_type": "code",
      "execution_count": null,
      "metadata": {
        "id": "ADNrb_GCsc_T"
      },
      "outputs": [],
      "source": [
        "#loading the data"
      ]
    },
    {
      "cell_type": "code",
      "execution_count": null,
      "metadata": {
        "id": "TJpz0s_Xsmsl"
      },
      "outputs": [],
      "source": [
        "from tensorflow.keras.datasets import imdb"
      ]
    },
    {
      "cell_type": "code",
      "execution_count": null,
      "metadata": {
        "id": "W6RKWXacs8uT"
      },
      "outputs": [],
      "source": [
        "#88,000 unique words"
      ]
    },
    {
      "cell_type": "code",
      "execution_count": null,
      "metadata": {
        "id": "DK2jx_TAtADW"
      },
      "outputs": [],
      "source": [
        "#how unique 10,000 words - TPUs"
      ]
    },
    {
      "cell_type": "code",
      "execution_count": null,
      "metadata": {
        "id": "AOZXufe0tD5M"
      },
      "outputs": [],
      "source": [
        "number_of_words = 10000"
      ]
    },
    {
      "cell_type": "code",
      "execution_count": null,
      "metadata": {
        "id": "7ADSc28otH6Y"
      },
      "outputs": [],
      "source": [
        "import numpy as np"
      ]
    },
    {
      "cell_type": "code",
      "execution_count": null,
      "metadata": {
        "id": "VCTXywZet56l"
      },
      "outputs": [],
      "source": [
        "np_load_old=np.load"
      ]
    },
    {
      "cell_type": "code",
      "execution_count": null,
      "metadata": {
        "id": "4D72WEIXt-gL"
      },
      "outputs": [],
      "source": [
        "#modify the default parameter of np.load"
      ]
    },
    {
      "cell_type": "code",
      "execution_count": null,
      "metadata": {
        "id": "fj1Fw_KQuBfX"
      },
      "outputs": [],
      "source": [
        "#modify the default parameters of the np.load\n",
        "#first list ,,, second -- object\n",
        "np.load=lambda *a,**k:np_load_old(*a,allow_pickle=True, )"
      ]
    },
    {
      "cell_type": "code",
      "execution_count": null,
      "metadata": {
        "colab": {
          "base_uri": "https://localhost:8080/"
        },
        "id": "HsZjcKvXw4H3",
        "outputId": "baf95f37-7f5c-408b-cf4d-60bdd27ce8b1"
      },
      "outputs": [
        {
          "name": "stdout",
          "output_type": "stream",
          "text": [
            "Downloading data from https://storage.googleapis.com/tensorflow/tf-keras-datasets/imdb.npz\n",
            "17465344/17464789 [==============================] - 0s 0us/step\n",
            "17473536/17464789 [==============================] - 0s 0us/step\n"
          ]
        }
      ],
      "source": [
        "(X_train, y_train), (X_test,y_test)=imdb.load_data(num_words=number_of_words)"
      ]
    },
    {
      "cell_type": "code",
      "execution_count": null,
      "metadata": {
        "id": "BSimys2_yrwx"
      },
      "outputs": [],
      "source": [
        "np.load=np_load_old"
      ]
    },
    {
      "cell_type": "code",
      "execution_count": null,
      "metadata": {
        "colab": {
          "base_uri": "https://localhost:8080/"
        },
        "id": "_o4mfN1ey2Cw",
        "outputId": "9b3bf8aa-9270-4239-ecf1-7b9a99b1ca34"
      },
      "outputs": [
        {
          "data": {
            "text/plain": [
              "(25000,)"
            ]
          },
          "execution_count": 18,
          "metadata": {},
          "output_type": "execute_result"
        }
      ],
      "source": [
        "X_test.shape"
      ]
    },
    {
      "cell_type": "code",
      "execution_count": null,
      "metadata": {
        "colab": {
          "base_uri": "https://localhost:8080/"
        },
        "id": "1Ue4y4fyzU2D",
        "outputId": "72138ab7-f128-40ee-b617-08ea2bf01ab1"
      },
      "outputs": [
        {
          "data": {
            "text/plain": [
              "(25000,)"
            ]
          },
          "execution_count": 19,
          "metadata": {},
          "output_type": "execute_result"
        }
      ],
      "source": [
        "y_test.shape"
      ]
    },
    {
      "cell_type": "code",
      "execution_count": null,
      "metadata": {
        "colab": {
          "base_uri": "https://localhost:8080/"
        },
        "id": "1lnwwzQWz6fB",
        "outputId": "3fd96253-6142-4ef3-f391-971f87ab9f00"
      },
      "outputs": [
        {
          "data": {
            "text/plain": [
              "(25000,)"
            ]
          },
          "execution_count": 20,
          "metadata": {},
          "output_type": "execute_result"
        }
      ],
      "source": [
        "X_train.shape"
      ]
    },
    {
      "cell_type": "code",
      "execution_count": null,
      "metadata": {
        "colab": {
          "base_uri": "https://localhost:8080/"
        },
        "id": "GqIgtyX-sfnk",
        "outputId": "1e9221f2-25f7-4362-c569-bd9461b00f95"
      },
      "outputs": [
        {
          "data": {
            "text/plain": [
              "(25000,)"
            ]
          },
          "execution_count": 21,
          "metadata": {},
          "output_type": "execute_result"
        }
      ],
      "source": [
        "y_train.shape"
      ]
    },
    {
      "cell_type": "code",
      "execution_count": null,
      "metadata": {
        "id": "CUTSIwNIzZR9"
      },
      "outputs": [],
      "source": [
        "#data exploration"
      ]
    },
    {
      "cell_type": "code",
      "execution_count": null,
      "metadata": {
        "id": "xkTtq6aYzbHH"
      },
      "outputs": [],
      "source": [
        "#arrays y_train and y_test are 1D. 1-positive, 0-negative\n",
        "#X_test and X_train are list of integers rep reviewers comment"
      ]
    },
    {
      "cell_type": "code",
      "execution_count": null,
      "metadata": {
        "colab": {
          "base_uri": "https://localhost:8080/"
        },
        "id": "P5XVJQYz0B_I",
        "outputId": "31545ee0-e96d-462f-bd6a-23da9af7d601"
      },
      "outputs": [
        {
          "name": "stdout",
          "output_type": "stream",
          "text": [
            "Pretty printing has been turned OFF\n"
          ]
        }
      ],
      "source": [
        "%pprint"
      ]
    },
    {
      "cell_type": "code",
      "execution_count": null,
      "metadata": {
        "colab": {
          "base_uri": "https://localhost:8080/"
        },
        "id": "tiSCzSvnzofE",
        "outputId": "ffc1034a-6a69-4e37-a902-6bb85533d427"
      },
      "outputs": [
        {
          "data": {
            "text/plain": [
              "[1, 14, 47, 8, 30, 31, 7, 4, 249, 108, 7, 4, 5974, 54, 61, 369, 13, 71, 149, 14, 22, 112, 4, 2401, 311, 12, 16, 3711, 33, 75, 43, 1829, 296, 4, 86, 320, 35, 534, 19, 263, 4821, 1301, 4, 1873, 33, 89, 78, 12, 66, 16, 4, 360, 7, 4, 58, 316, 334, 11, 4, 1716, 43, 645, 662, 8, 257, 85, 1200, 42, 1228, 2578, 83, 68, 3912, 15, 36, 165, 1539, 278, 36, 69, 2, 780, 8, 106, 14, 6905, 1338, 18, 6, 22, 12, 215, 28, 610, 40, 6, 87, 326, 23, 2300, 21, 23, 22, 12, 272, 40, 57, 31, 11, 4, 22, 47, 6, 2307, 51, 9, 170, 23, 595, 116, 595, 1352, 13, 191, 79, 638, 89, 2, 14, 9, 8, 106, 607, 624, 35, 534, 6, 227, 7, 129, 113]"
            ]
          },
          "execution_count": 25,
          "metadata": {},
          "output_type": "execute_result"
        }
      ],
      "source": [
        "X_train[2]"
      ]
    },
    {
      "cell_type": "code",
      "execution_count": null,
      "metadata": {
        "colab": {
          "base_uri": "https://localhost:8080/"
        },
        "id": "taWUNmgO0Gwu",
        "outputId": "6c54d5af-cc31-4ab3-f7ac-87b0c9f7d2ea"
      },
      "outputs": [
        {
          "data": {
            "text/plain": [
              "0"
            ]
          },
          "execution_count": 26,
          "metadata": {},
          "output_type": "execute_result"
        }
      ],
      "source": [
        "y_train[2]"
      ]
    },
    {
      "cell_type": "code",
      "execution_count": null,
      "metadata": {
        "id": "fwz2J1uD0WdH"
      },
      "outputs": [],
      "source": [
        "#review encodings"
      ]
    },
    {
      "cell_type": "code",
      "execution_count": null,
      "metadata": {
        "id": "A7_eBhHo0Yw1"
      },
      "outputs": [],
      "source": [
        "#movies are numerically encoded, text-word which each number corresponds to\n",
        "#keras IMDB dic that maps words to their indexes- each word value is its\n",
        "#frequency ranking among the words in the dataset\n",
        "#1 is the most frequent word\n",
        "#offest by 3- training and trusting samples = 4-0,1,2 reserved 0- padding- dimensions 0000000 i do not like it\n",
        "#1-start of the sequence-a token that keras uses for learning purposes2-not loaded-unknown"
      ]
    },
    {
      "cell_type": "code",
      "execution_count": null,
      "metadata": {
        "colab": {
          "base_uri": "https://localhost:8080/"
        },
        "id": "gtkRFPH81rIp",
        "outputId": "0efd5336-9090-4fba-f17b-8198339379c7"
      },
      "outputs": [
        {
          "name": "stdout",
          "output_type": "stream",
          "text": [
            "Downloading data from https://storage.googleapis.com/tensorflow/tf-keras-datasets/imdb_word_index.json\n",
            "1646592/1641221 [==============================] - 0s 0us/step\n",
            "1654784/1641221 [==============================] - 0s 0us/step\n"
          ]
        }
      ],
      "source": [
        "word_to_index=imdb.get_word_index()"
      ]
    },
    {
      "cell_type": "code",
      "execution_count": null,
      "metadata": {
        "colab": {
          "base_uri": "https://localhost:8080/"
        },
        "id": "qauP-zt71Bf3",
        "outputId": "c01dab5f-d52f-4df7-930a-ce04ff03acc1"
      },
      "outputs": [
        {
          "data": {
            "text/plain": [
              "49"
            ]
          },
          "execution_count": 30,
          "metadata": {},
          "output_type": "execute_result"
        }
      ],
      "source": [
        "word_to_index['good']"
      ]
    },
    {
      "cell_type": "code",
      "execution_count": null,
      "metadata": {
        "id": "nF-e7_Kz3FyU"
      },
      "outputs": [],
      "source": [
        "#reverse word to index mapping"
      ]
    },
    {
      "cell_type": "code",
      "execution_count": null,
      "metadata": {
        "id": "suY5kP6V2QKf"
      },
      "outputs": [],
      "source": [
        "index_to_word={index:word for (word, index) in word_to_index.items()}"
      ]
    },
    {
      "cell_type": "code",
      "execution_count": null,
      "metadata": {
        "colab": {
          "base_uri": "https://localhost:8080/"
        },
        "id": "h3CTkZ992lox",
        "outputId": "bbf2ad1a-df7c-47c1-e101-4dd3bd7fde35"
      },
      "outputs": [
        {
          "data": {
            "text/plain": [
              "['the', 'and', 'a', 'of', 'to', 'is', 'br', 'in', 'it', 'i', 'this', 'that', 'was', 'as', 'for', 'with', 'movie', 'but', 'film', 'on', 'not', 'you', 'are', 'his', 'have', 'he', 'be', 'one', 'all', 'at', 'by', 'an', 'they', 'who', 'so', 'from', 'like', 'her', 'or', 'just', 'about', \"it's\", 'out', 'has', 'if', 'some', 'there', 'what', 'good', 'more', 'when', 'very', 'up', 'no', 'time', 'she', 'even', 'my', 'would', 'which', 'only', 'story', 'really', 'see', 'their', 'had', 'can', 'were', 'me', 'well', 'than', 'we', 'much', 'been', 'bad', 'get', 'will', 'do', 'also', 'into', 'people', 'other', 'first', 'great', 'because', 'how', 'him', 'most', \"don't\", 'made', 'its', 'then', 'way', 'make', 'them', 'too', 'could', 'any', 'movies']"
            ]
          },
          "execution_count": 33,
          "metadata": {},
          "output_type": "execute_result"
        }
      ],
      "source": [
        "[index_to_word[i] for i in range(1,100)]"
      ]
    },
    {
      "cell_type": "code",
      "execution_count": null,
      "metadata": {
        "id": "YCc0EHly2vK0"
      },
      "outputs": [],
      "source": [
        "#decoding a movie review"
      ]
    },
    {
      "cell_type": "code",
      "execution_count": null,
      "metadata": {
        "id": "PrdP-0JQ2_A-"
      },
      "outputs": [],
      "source": [
        "#i-3 accounts for the offset 0-2- ? use the key value"
      ]
    },
    {
      "cell_type": "code",
      "execution_count": null,
      "metadata": {
        "colab": {
          "base_uri": "https://localhost:8080/",
          "height": 88
        },
        "id": "coedn4Qs3n7w",
        "outputId": "06eadc0f-3cf6-446c-b317-d4b5df60b6fb"
      },
      "outputs": [
        {
          "data": {
            "application/vnd.google.colaboratory.intrinsic+json": {
              "type": "string"
            },
            "text/plain": [
              "\"?thishastobeoneoftheworstfilmsofthe1990swhenmyfriendsiwerewatchingthisfilmbeingthetargetaudienceitwasaimedatwejustsatwatchedthefirsthalfanhourwithourjawstouchingthefloorathowbaditreallywastherestofthetimeeveryoneelseinthetheatrejuststartedtalkingtoeachotherleavingorgenerallycryingintotheirpopcornthattheyactuallypaidmoneytheyhad?workingtowatchthisfeebleexcuseforafilmitmusthavelookedlikeagreatideaonpaperbutonfilmitlookslikenooneinthefilmhasacluewhatisgoingoncrapactingcrapcostumesican'tgetacrosshow?thisistowatchsaveyourselfanhourabitofyourlife\""
            ]
          },
          "execution_count": 36,
          "metadata": {},
          "output_type": "execute_result"
        }
      ],
      "source": [
        "''.join(index_to_word.get(i-3, '?') for i in X_train[2])"
      ]
    },
    {
      "cell_type": "code",
      "execution_count": null,
      "metadata": {
        "colab": {
          "base_uri": "https://localhost:8080/",
          "height": 124
        },
        "id": "vDRBAmtA4TFJ",
        "outputId": "6079e392-20cb-4093-8b8a-4556a133b9e8"
      },
      "outputs": [
        {
          "data": {
            "application/vnd.google.colaboratory.intrinsic+json": {
              "type": "string"
            },
            "text/plain": [
              "\"?the??atstorytellingthetraditionalsortmanyyearsaftertheeventicanstillseeinmy?eyeanelderlyladymyfriend'smotherretellingthebattleof?shemakesthecharacterscomealiveherpassionisthatofaneyewitnessonetotheeventsonthe?heathamileorsofromwhereshelivesbrbrofcourseithappenedmanyyearsbeforeshewasbornbutyouwouldn'tguessfromthewayshetellsitthesamestoryistoldinbarsthelengthand?ofscotlandasidiscusseditwithafriendonenightin?alocalcutintogivehisversionthediscussioncontinuedtoclosingtimebrbrstoriespasseddownlikethisbecomepartofourbeingwhodoesn'trememberthestoriesourparentstolduswhenwewerechildrentheybecomeourinvisibleworldandaswegrowoldertheymaybestillserveasinspirationorasanemotional?factandfictionblendwith?rolemodelswarningstories?magicandmysterybrbrmynameis?likemygrandfatherandhisgrandfatherbeforehimourprotagonistintroduceshimselftousandalsointroducesthestorythatstretchesbackthroughgenerationsitproducesstorieswithinstoriesstoriesthatevokethe?wonderofscotlanditsruggedmountains?in?thestuffoflegendyet?is?inrealitythisiswhatgivesititsspecialcharmithasaroughbeautyandauthenticity?withsomeofthefinest?singingyouwilleverhearbrbr??visitshisgrandfatherinhospitalshortlybeforehisdeathheburnswithfrustrationpartofhim?tobeinthetwentyfirstcenturytohangoutin?butheisraisedonthewestern?amonga?speakingcommunitybrbryetthereisadeeperconflictwithinhimhe?toknowthetruththetruthbehindhis?ancientstorieswheredoesfictionendandhewantstoknowthetruthbehindthedeathofhisparentsbrbrheispulledtomakealast?journeytothe?ofoneof?most?mountainscanthetruthbetoldorisitallinstoriesbrbrinthisstoryaboutstorieswe?bloodybattles?loversthe?ofoldandthesometimesmore??ofacceptedtruthindoingsoweeachconnectwith?ashelivesthestoryofhisownlifebrbr?the??isprobablythemosthonest?andgenuinelybeautifulfilmofscotlandevermadelike?igotslightlyannoyedwiththe?ofhangingstoriesonmorestoriesbutalsolike?i?thisonceisawthe?picture'forgettheboxoffice?ofbraveheartanditslikeyoumighteven?the?famous?ofthewickermantoseeafilmthatistruetoscotlandthisoneisprobablyuniqueifyoumaybe?onitdeeplyenoughyoumightevenre?thepowerofstorytellingandtheageoldquestionofwhethertherearesometruthsthatcannotbetoldbutonlyexperienced\""
            ]
          },
          "execution_count": 37,
          "metadata": {},
          "output_type": "execute_result"
        }
      ],
      "source": [
        "''.join(index_to_word.get(i-3, '?') for i in X_train[3])"
      ]
    },
    {
      "cell_type": "code",
      "execution_count": null,
      "metadata": {
        "colab": {
          "base_uri": "https://localhost:8080/"
        },
        "id": "NvKZbJYv44SV",
        "outputId": "ea9816ed-5060-4192-b2af-fed0e48e3613"
      },
      "outputs": [
        {
          "data": {
            "text/plain": [
              "0"
            ]
          },
          "execution_count": 38,
          "metadata": {},
          "output_type": "execute_result"
        }
      ],
      "source": [
        "y_train[4]"
      ]
    },
    {
      "cell_type": "code",
      "execution_count": null,
      "metadata": {
        "id": "lMVqrIx746qP"
      },
      "outputs": [],
      "source": [
        "#data preparation"
      ]
    },
    {
      "cell_type": "code",
      "execution_count": null,
      "metadata": {
        "id": "BH3FEaN449Mc"
      },
      "outputs": [],
      "source": [
        "#review varies\n",
        "#same dimension\n",
        "#prepare data for learning number of words, truncate\n",
        "#if few pad 0 - pad_sequence function reshapes samples and returns 2D array\n"
      ]
    },
    {
      "cell_type": "code",
      "execution_count": null,
      "metadata": {
        "id": "58kc17l15SIH"
      },
      "outputs": [],
      "source": [
        "words_per_review=200"
      ]
    },
    {
      "cell_type": "code",
      "execution_count": null,
      "metadata": {
        "id": "XUaC456Y5XEw"
      },
      "outputs": [],
      "source": [
        "from tensorflow.keras.preprocessing.sequence import pad_sequences"
      ]
    },
    {
      "cell_type": "code",
      "execution_count": null,
      "metadata": {
        "id": "67rYHPkP5k6c"
      },
      "outputs": [],
      "source": [
        "X_train=pad_sequences(X_train, maxlen=words_per_review)"
      ]
    },
    {
      "cell_type": "code",
      "execution_count": null,
      "metadata": {
        "colab": {
          "base_uri": "https://localhost:8080/"
        },
        "id": "q42z8ZZN5sgK",
        "outputId": "93cf593e-79a0-4de8-cd14-b13ddcab8089"
      },
      "outputs": [
        {
          "data": {
            "text/plain": [
              "(25000, 200)"
            ]
          },
          "execution_count": 44,
          "metadata": {},
          "output_type": "execute_result"
        }
      ],
      "source": [
        "X_train.shape"
      ]
    },
    {
      "cell_type": "code",
      "execution_count": null,
      "metadata": {
        "id": "teqkOK1e5vSZ"
      },
      "outputs": [],
      "source": [
        "X_test=pad_sequences(X_test, maxlen=words_per_review)"
      ]
    },
    {
      "cell_type": "code",
      "execution_count": null,
      "metadata": {
        "colab": {
          "base_uri": "https://localhost:8080/"
        },
        "id": "VY3akR5n6Eco",
        "outputId": "dacb5fb7-d559-4d95-b0fe-2f508e4724a5"
      },
      "outputs": [
        {
          "data": {
            "text/plain": [
              "(25000, 200)"
            ]
          },
          "execution_count": 46,
          "metadata": {},
          "output_type": "execute_result"
        }
      ],
      "source": [
        "X_test.shape"
      ]
    },
    {
      "cell_type": "code",
      "execution_count": null,
      "metadata": {
        "id": "xhMx-9r26I0N"
      },
      "outputs": [],
      "source": [
        "#split the data to validation and test data"
      ]
    },
    {
      "cell_type": "code",
      "execution_count": null,
      "metadata": {
        "colab": {
          "base_uri": "https://localhost:8080/"
        },
        "id": "64Yc9avl6gA1",
        "outputId": "485a3c66-9796-4bd7-fc1e-a5b64526b125"
      },
      "outputs": [
        {
          "data": {
            "text/plain": [
              "2000.0"
            ]
          },
          "execution_count": 48,
          "metadata": {},
          "output_type": "execute_result"
        }
      ],
      "source": [
        "80/100*2500 #test rest 20% -validation"
      ]
    },
    {
      "cell_type": "code",
      "execution_count": null,
      "metadata": {
        "id": "U6gnn3vM6pLk"
      },
      "outputs": [],
      "source": [
        "from sklearn.model_selection import train_test_split"
      ]
    },
    {
      "cell_type": "code",
      "execution_count": null,
      "metadata": {
        "id": "VF6RIuqM62j1"
      },
      "outputs": [],
      "source": [
        "X_test, X_val, y_test, y_val=train_test_split(X_test, y_test, random_state=11, test_size=0.20)"
      ]
    },
    {
      "cell_type": "code",
      "execution_count": null,
      "metadata": {
        "colab": {
          "base_uri": "https://localhost:8080/"
        },
        "id": "MNktNvC87Oh2",
        "outputId": "ddbfb87e-fbc6-4e4f-d93b-4e52fc308871"
      },
      "outputs": [
        {
          "data": {
            "text/plain": [
              "(20000, 200)"
            ]
          },
          "execution_count": 51,
          "metadata": {},
          "output_type": "execute_result"
        }
      ],
      "source": [
        "X_test.shape"
      ]
    },
    {
      "cell_type": "code",
      "execution_count": null,
      "metadata": {
        "colab": {
          "base_uri": "https://localhost:8080/"
        },
        "id": "Z53_6Yqc7RXl",
        "outputId": "8af4a16d-eff9-4261-b461-14b4276a01e5"
      },
      "outputs": [
        {
          "data": {
            "text/plain": [
              "(5000, 200)"
            ]
          },
          "execution_count": 52,
          "metadata": {},
          "output_type": "execute_result"
        }
      ],
      "source": [
        "X_val.shape"
      ]
    },
    {
      "cell_type": "code",
      "execution_count": null,
      "metadata": {
        "id": "qgLm3G7T7nXg"
      },
      "outputs": [],
      "source": [
        "#creating the neural network"
      ]
    },
    {
      "cell_type": "code",
      "execution_count": null,
      "metadata": {
        "id": "jepicnyesfo8"
      },
      "outputs": [],
      "source": [
        "#Sequential Model,import the other layers"
      ]
    },
    {
      "cell_type": "code",
      "execution_count": null,
      "metadata": {
        "id": "jklt4-YbsfpM"
      },
      "outputs": [],
      "source": [
        "from tensorflow.keras.models import Sequential"
      ]
    },
    {
      "cell_type": "code",
      "execution_count": null,
      "metadata": {
        "id": "TC3GkYLAsfpe"
      },
      "outputs": [],
      "source": [
        "rnn=Sequential()"
      ]
    },
    {
      "cell_type": "code",
      "execution_count": null,
      "metadata": {
        "colab": {
          "base_uri": "https://localhost:8080/"
        },
        "id": "Rih5dMcAsfpi",
        "outputId": "1d6c8ebe-2879-4ef3-c5bd-ae41207ffe0e"
      },
      "outputs": [
        {
          "data": {
            "text/plain": [
              "<keras.engine.sequential.Sequential object at 0x7fc0e45881d0>"
            ]
          },
          "execution_count": 57,
          "metadata": {},
          "output_type": "execute_result"
        }
      ],
      "source": [
        "rnn"
      ]
    },
    {
      "cell_type": "code",
      "execution_count": null,
      "metadata": {
        "id": "IX7hPDprsfpy"
      },
      "outputs": [],
      "source": [
        "\n",
        "\n",
        "from tensorflow.keras.layers import Dense, LSTM, Embedding"
      ]
    },
    {
      "cell_type": "code",
      "execution_count": null,
      "metadata": {
        "id": "CseOFlZ7sfpz"
      },
      "outputs": [],
      "source": [
        "#Add embedding layers-one hot encoding\n",
        "#we vonverted MNIST to categorical data.Each label became a vector\n",
        "#Index value that represent words"
      ]
    },
    {
      "cell_type": "code",
      "execution_count": null,
      "metadata": {
        "id": "nXH3vGF1sfp0"
      },
      "outputs": [],
      "source": [
        "rnn.add(Embedding(input_dim=number_of_words, output_dim=128, input_length=words_per_review))"
      ]
    },
    {
      "cell_type": "code",
      "execution_count": null,
      "metadata": {
        "id": "KScuN9umsfp3"
      },
      "outputs": [],
      "source": [
        "#Adding an LSTM Layer"
      ]
    },
    {
      "cell_type": "code",
      "execution_count": null,
      "metadata": {
        "colab": {
          "base_uri": "https://localhost:8080/"
        },
        "id": "Oxg1lpjpsfp3",
        "outputId": "8b2c4dfc-94af-4bb3-995a-0cec70c0f8aa"
      },
      "outputs": [
        {
          "name": "stdout",
          "output_type": "stream",
          "text": [
            "WARNING:tensorflow:Layer lstm will not use cuDNN kernels since it doesn't meet the criteria. It will use a generic GPU kernel as fallback when running on GPU.\n"
          ]
        }
      ],
      "source": [
        "rnn.add(LSTM(units=128, dropout=0.2, recurrent_dropout=0.2))"
      ]
    },
    {
      "cell_type": "code",
      "execution_count": null,
      "metadata": {
        "id": "ZaMuZiOtsfp4"
      },
      "outputs": [],
      "source": [
        "#Adding a dense output layer\n",
        "#LSTM -ONE Result 0 or 1-binary classifcation"
      ]
    },
    {
      "cell_type": "code",
      "execution_count": null,
      "metadata": {
        "id": "3bqSmIZgsfp5"
      },
      "outputs": [],
      "source": [
        "rnn.add(Dense(units=1, activation='sigmoid'))"
      ]
    },
    {
      "cell_type": "markdown",
      "metadata": {
        "id": "JF4ykbNbsfp5"
      },
      "source": [
        "Compling the model and display the summary- binary crossentropy loss function"
      ]
    },
    {
      "cell_type": "code",
      "execution_count": null,
      "metadata": {
        "id": "tZPbfz5fsfqB"
      },
      "outputs": [],
      "source": [
        "rnn.compile(optimizer='adam', loss='binary_crossentropy', metrics=[['accuracy'],['binary_crossentropy']])"
      ]
    },
    {
      "cell_type": "code",
      "execution_count": null,
      "metadata": {
        "colab": {
          "base_uri": "https://localhost:8080/"
        },
        "id": "vhB86MUgsfqC",
        "outputId": "46cc993f-6f77-4804-e8e3-8c57ccd24ab7"
      },
      "outputs": [
        {
          "name": "stdout",
          "output_type": "stream",
          "text": [
            "Model: \"sequential\"\n",
            "_________________________________________________________________\n",
            "Layer (type)                 Output Shape              Param #   \n",
            "=================================================================\n",
            "embedding (Embedding)        (None, 200, 128)          1280000   \n",
            "_________________________________________________________________\n",
            "lstm (LSTM)                  (None, 128)               131584    \n",
            "_________________________________________________________________\n",
            "dense (Dense)                (None, 1)                 129       \n",
            "=================================================================\n",
            "Total params: 1,411,713\n",
            "Trainable params: 1,411,713\n",
            "Non-trainable params: 0\n",
            "_________________________________________________________________\n"
          ]
        }
      ],
      "source": [
        "rnn.summary()"
      ]
    },
    {
      "cell_type": "code",
      "execution_count": null,
      "metadata": {
        "id": "v2dDnVyxsfqH"
      },
      "outputs": [],
      "source": [
        "#Training the model"
      ]
    },
    {
      "cell_type": "code",
      "execution_count": null,
      "metadata": {
        "colab": {
          "background_save": true,
          "base_uri": "https://localhost:8080/"
        },
        "id": "HITVvFuGsfqo",
        "outputId": "9f687ad6-dd3d-4582-87ec-1d47c403bdce"
      },
      "outputs": [
        {
          "name": "stdout",
          "output_type": "stream",
          "text": [
            "Epoch 1/10\n",
            "782/782 [==============================] - 940s 1s/step - loss: 0.4442 - accuracy: 0.7934 - binary_crossentropy: 0.4442 - val_loss: 0.4284 - val_accuracy: 0.8145 - val_binary_crossentropy: 0.4284\n",
            "Epoch 2/10\n",
            "782/782 [==============================] - 891s 1s/step - loss: 0.2737 - accuracy: 0.8913 - binary_crossentropy: 0.2737 - val_loss: 0.3237 - val_accuracy: 0.8679 - val_binary_crossentropy: 0.3237\n",
            "Epoch 3/10\n",
            "782/782 [==============================] - 886s 1s/step - loss: 0.1983 - accuracy: 0.9254 - binary_crossentropy: 0.1983 - val_loss: 0.3917 - val_accuracy: 0.8540 - val_binary_crossentropy: 0.3917\n",
            "Epoch 4/10\n",
            "782/782 [==============================] - 922s 1s/step - loss: 0.1526 - accuracy: 0.9437 - binary_crossentropy: 0.1526 - val_loss: 0.3972 - val_accuracy: 0.8464 - val_binary_crossentropy: 0.3972\n",
            "Epoch 5/10\n",
            "782/782 [==============================] - 880s 1s/step - loss: 0.1192 - accuracy: 0.9568 - binary_crossentropy: 0.1192 - val_loss: 0.4068 - val_accuracy: 0.8561 - val_binary_crossentropy: 0.4068\n",
            "Epoch 6/10\n",
            "782/782 [==============================] - 922s 1s/step - loss: 0.0890 - accuracy: 0.9683 - binary_crossentropy: 0.0890 - val_loss: 0.4576 - val_accuracy: 0.8489 - val_binary_crossentropy: 0.4576\n",
            "Epoch 7/10\n",
            "782/782 [==============================] - 927s 1s/step - loss: 0.0699 - accuracy: 0.9768 - binary_crossentropy: 0.0699 - val_loss: 0.5212 - val_accuracy: 0.8626 - val_binary_crossentropy: 0.5212\n",
            "Epoch 8/10\n",
            "782/782 [==============================] - 884s 1s/step - loss: 0.0497 - accuracy: 0.9827 - binary_crossentropy: 0.0497 - val_loss: 0.5597 - val_accuracy: 0.8532 - val_binary_crossentropy: 0.5597\n",
            "Epoch 9/10\n",
            "782/782 [==============================] - 918s 1s/step - loss: 0.0487 - accuracy: 0.9838 - binary_crossentropy: 0.0487 - val_loss: 0.5390 - val_accuracy: 0.8518 - val_binary_crossentropy: 0.5390\n",
            "Epoch 10/10\n",
            "782/782 [==============================] - 924s 1s/step - loss: 0.0396 - accuracy: 0.9866 - binary_crossentropy: 0.0396 - val_loss: 0.6344 - val_accuracy: 0.8556 - val_binary_crossentropy: 0.6344\n"
          ]
        },
        {
          "data": {
            "text/plain": [
              "<keras.callbacks.History object at 0x7fc0e9642b90>"
            ]
          },
          "execution_count": null,
          "metadata": {},
          "output_type": "execute_result"
        }
      ],
      "source": [
        "rnn.fit(X_train, y_train, epochs=10, batch_size=32, validation_data=(X_test,y_test))"
      ]
    },
    {
      "cell_type": "code",
      "execution_count": null,
      "metadata": {
        "colab": {
          "background_save": true
        },
        "id": "jpeJW58Psfqp"
      },
      "outputs": [],
      "source": [
        "#Evaluating the model"
      ]
    },
    {
      "cell_type": "code",
      "execution_count": null,
      "metadata": {
        "colab": {
          "base_uri": "https://localhost:8080/"
        },
        "id": "t4yS6vD02n5r",
        "outputId": "14defa38-0026-478d-bf12-8dd1b26c2857"
      },
      "outputs": [
        {
          "name": "stdout",
          "output_type": "stream",
          "text": [
            " 76/625 [==>...........................] - ETA: 44s - loss: 0.6774 - accuracy: 0.8462 - binary_crossentropy: 0.6774"
          ]
        }
      ],
      "source": [
        "results=rnn.evaluate(X_test,y_test)"
      ]
    },
    {
      "cell_type": "code",
      "execution_count": null,
      "metadata": {
        "id": "CUGv7r5E2voe"
      },
      "outputs": [],
      "source": [
        "results"
      ]
    }
  ],
  "metadata": {
    "accelerator": "GPU",
    "colab": {
      "collapsed_sections": [],
      "name": "RNN_for_Sequences_Sentiment_Analysis (1) (1).ipynb",
      "provenance": []
    },
    "kernelspec": {
      "display_name": "Python 3",
      "language": "python",
      "name": "python3"
    },
    "language_info": {
      "codemirror_mode": {
        "name": "ipython",
        "version": 3
      },
      "file_extension": ".py",
      "mimetype": "text/x-python",
      "name": "python",
      "nbconvert_exporter": "python",
      "pygments_lexer": "ipython3",
      "version": "3.8.8"
    }
  },
  "nbformat": 4,
  "nbformat_minor": 0
}